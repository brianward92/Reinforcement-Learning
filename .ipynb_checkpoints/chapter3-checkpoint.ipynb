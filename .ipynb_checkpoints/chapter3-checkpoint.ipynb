{
 "cells": [
  {
   "cell_type": "code",
   "execution_count": 1,
   "metadata": {},
   "outputs": [],
   "source": [
    "# Libs and Functions\n",
    "import numpy as np"
   ]
  },
  {
   "cell_type": "markdown",
   "metadata": {},
   "source": [
    "In any of states 7 through 9, 12 through 14, or 17 through 19, the Bellman equation is\n",
    "$$ v(i) = \\gamma \\left(0.25v(i-5)+0.25v(i+5)+0.25v(i+1)+0.25v(i-1) \\right).$$\n",
    "For states 22 through 24, the Bellman equation is\n",
    "$$ v(i) = -0.25 + \\gamma \\left(0.25v(i-5)+0.25v(i)+0.25v(i+1)+0.25v(i-1) \\right) .$$\n",
    "For states 6, 11, and 16, the Bellman equation is\n",
    "$$ v(i) = -0.25 + \\gamma \\left(0.25v(i-5)+0.25v(i+5)+0.25v(i+1)+0.25v(i) \\right).$$\n",
    "For states 10, 15, and 20, the Bellman equation is\n",
    "$$ v(i) = -0.25 + \\gamma \\left(0.25v(i-5)+0.25v(i+5)+0.25v(i)+0.25v(i-1) \\right).$$\n",
    "For state 3 we write the Bellman equation explicitly:\n",
    "$$ v(3) = -0.25 + \\gamma \\left(0.25v(3)+0.25v(8)+0.25v(4)+0.25v(2) \\right).$$\n",
    "The corner states require special care. We have\n",
    "\\begin{align}\n",
    "v(1)  &= -0.5 + \\gamma \\left(0.5v(1)+0.25v(2)+0.25v(6)\\right)\\\\\n",
    "v(5)  &= -0.5 + \\gamma \\left(0.5v(5)+0.25v(4)+0.25v(10)\\right)\\\\\n",
    "v(21) &= -0.5 + \\gamma \\left(0.5v(21)+0.25v(22)+0.25v(17)\\right)\\\\\n",
    "v(25) &= -0.5 + \\gamma \\left(0.5v(25)+0.25v(24)+0.25v(20)\\right).\\\\\n",
    "\\end{align}\n",
    "The constant terms above are the expected rewards. There is a cost for leaving the array and the expected reward is then $P(Leaving)\\times -1$. And naturally, states 2 and 4 also require special care\n",
    "\\begin{align}\n",
    "v(2)  &= 10+\\gamma v(22)\\\\\n",
    "v(4)  &= 5+\\gamma v(19).\\\\\n",
    "\\end{align}\n",
    "The system can be expressed in form $Av=b$, with $v$ the vector of value function values, and $b$ a vector with a $-10$ in entry 2, and $-5$ in entry 5. The matrix $A$ can be constructed as given in the statements above. "
   ]
  },
  {
   "cell_type": "code",
   "execution_count": 7,
   "metadata": {},
   "outputs": [
    {
     "name": "stdout",
     "output_type": "stream",
     "text": [
      "[[ 3.35  8.88  4.15  4.43  1.01]\n",
      " [ 1.54  2.98  2.1   1.58  0.27]\n",
      " [ 0.09  0.74  0.61  0.23 -0.54]\n",
      " [-0.87 -0.39 -0.37 -0.64 -1.25]\n",
      " [-1.58 -1.25 -1.21 -1.44 -2.01]]\n"
     ]
    }
   ],
   "source": [
    "A = np.zeros((25,25))\n",
    "b = np.zeros((25,1))\n",
    "gamma = 0.9\n",
    "row = 0\n",
    "s = [i for i in range(6,9)] + [i for i in range(11,14)] + [i for i in range(16,19)]\n",
    "for i in s:\n",
    "    A[row,i] = -1\n",
    "    A[row,[i-5,i+5,i+1,i-1]] = 0.25 * gamma\n",
    "    row += 1\n",
    "for i in range(21,24): # Bottom interior\n",
    "    A[row,i] = 0.25 * gamma - 1\n",
    "    A[row,i-5] = 0.25 * gamma\n",
    "    A[row,i+1] = 0.25 * gamma\n",
    "    A[row,i-1] = 0.25 * gamma\n",
    "    b[row] = 0.25\n",
    "    row += 1\n",
    "for i in [9, 14, 19]: # Right edge interior\n",
    "    A[row,i] = 0.25 * gamma - 1\n",
    "    A[row,i-5] = 0.25 * gamma\n",
    "    A[row,i+5] = 0.25 * gamma\n",
    "    A[row,i-1] = 0.25 * gamma\n",
    "    b[row] = 0.25\n",
    "    row += 1\n",
    "for i in [5, 10, 15]: # Left edge interior \n",
    "    A[row,i] = 0.25 * gamma - 1\n",
    "    A[row,i-5] = 0.25 * gamma\n",
    "    A[row,i+5] = 0.25 * gamma\n",
    "    A[row,i+1] = 0.25 * gamma\n",
    "    b[row] = 0.25\n",
    "    row += 1\n",
    "# State 3\n",
    "A[row, 2] = 0.25 * gamma - 1\n",
    "A[row, 7] = 0.25 * gamma\n",
    "A[row, 3] = 0.25 * gamma\n",
    "A[row, 1] = 0.25 * gamma\n",
    "b[row] = 0.25\n",
    "row += 1\n",
    "# Corners\n",
    "# State 1\n",
    "A[row, 0] = 0.5 * gamma - 1\n",
    "A[row, 1] = 0.25 * gamma\n",
    "A[row, 5] = 0.25 * gamma\n",
    "b[row] = 0.5\n",
    "row += 1\n",
    "# State 5\n",
    "A[row, 4] = 0.5 * gamma - 1\n",
    "A[row, 3] = 0.25 * gamma\n",
    "A[row, 9] = 0.25 * gamma\n",
    "b[row] = 0.5\n",
    "row += 1\n",
    "# State 21\n",
    "A[row, 20] = 0.5 * gamma - 1\n",
    "A[row, 21] = 0.25 * gamma\n",
    "A[row, 16] = 0.25 * gamma\n",
    "b[row] = 0.5\n",
    "row += 1\n",
    "# State 25\n",
    "A[row, 24] = 0.5 * gamma - 1\n",
    "A[row, 23] = 0.25 * gamma\n",
    "A[row, 19] = 0.25 * gamma\n",
    "b[row] = 0.5\n",
    "row += 1\n",
    "# Special States:\n",
    "# State 2\n",
    "A[row, 1] = -1\n",
    "A[row, 21] = 1 * gamma\n",
    "b[row] = -10\n",
    "row += 1\n",
    "# State 4\n",
    "A[row, 3] = -1\n",
    "A[row, 18] = 1 * gamma\n",
    "b[row] = -5\n",
    "row += 1\n",
    "\n",
    "v = np.linalg.solve(A,b)\n",
    "print(np.round(np.reshape(v, (5,5)),2))"
   ]
  },
  {
   "cell_type": "code",
   "execution_count": null,
   "metadata": {},
   "outputs": [],
   "source": []
  }
 ],
 "metadata": {
  "kernelspec": {
   "display_name": "Python 3",
   "language": "python",
   "name": "python3"
  },
  "language_info": {
   "codemirror_mode": {
    "name": "ipython",
    "version": 3
   },
   "file_extension": ".py",
   "mimetype": "text/x-python",
   "name": "python",
   "nbconvert_exporter": "python",
   "pygments_lexer": "ipython3",
   "version": "3.4.2"
  }
 },
 "nbformat": 4,
 "nbformat_minor": 2
}
